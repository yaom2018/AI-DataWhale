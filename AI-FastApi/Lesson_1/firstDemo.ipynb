{
 "cells": [
  {
   "cell_type": "code",
   "execution_count": 1,
   "id": "7982b290",
   "metadata": {},
   "outputs": [
    {
     "name": "stdout",
     "output_type": "stream",
     "text": [
      "Collecting fastapi\n",
      "  Using cached fastapi-0.115.12-py3-none-any.whl.metadata (27 kB)\n",
      "Collecting starlette<0.47.0,>=0.40.0 (from fastapi)\n",
      "  Using cached starlette-0.46.2-py3-none-any.whl.metadata (6.2 kB)\n",
      "Collecting pydantic!=1.8,!=1.8.1,!=2.0.0,!=2.0.1,!=2.1.0,<3.0.0,>=1.7.4 (from fastapi)\n",
      "  Using cached pydantic-2.11.5-py3-none-any.whl.metadata (67 kB)\n",
      "Requirement already satisfied: typing-extensions>=4.8.0 in d:\\00program\\miniconda3\\envs\\py3105\\lib\\site-packages (from fastapi) (4.13.2)\n",
      "Collecting annotated-types>=0.6.0 (from pydantic!=1.8,!=1.8.1,!=2.0.0,!=2.0.1,!=2.1.0,<3.0.0,>=1.7.4->fastapi)\n",
      "  Using cached annotated_types-0.7.0-py3-none-any.whl.metadata (15 kB)\n",
      "Collecting pydantic-core==2.33.2 (from pydantic!=1.8,!=1.8.1,!=2.0.0,!=2.0.1,!=2.1.0,<3.0.0,>=1.7.4->fastapi)\n",
      "  Using cached pydantic_core-2.33.2-cp310-cp310-win_amd64.whl.metadata (6.9 kB)\n",
      "Collecting typing-inspection>=0.4.0 (from pydantic!=1.8,!=1.8.1,!=2.0.0,!=2.0.1,!=2.1.0,<3.0.0,>=1.7.4->fastapi)\n",
      "  Using cached typing_inspection-0.4.1-py3-none-any.whl.metadata (2.6 kB)\n",
      "Collecting anyio<5,>=3.6.2 (from starlette<0.47.0,>=0.40.0->fastapi)\n",
      "  Using cached anyio-4.9.0-py3-none-any.whl.metadata (4.7 kB)\n",
      "Requirement already satisfied: exceptiongroup>=1.0.2 in d:\\00program\\miniconda3\\envs\\py3105\\lib\\site-packages (from anyio<5,>=3.6.2->starlette<0.47.0,>=0.40.0->fastapi) (1.3.0)\n",
      "Collecting idna>=2.8 (from anyio<5,>=3.6.2->starlette<0.47.0,>=0.40.0->fastapi)\n",
      "  Using cached idna-3.10-py3-none-any.whl.metadata (10 kB)\n",
      "Collecting sniffio>=1.1 (from anyio<5,>=3.6.2->starlette<0.47.0,>=0.40.0->fastapi)\n",
      "  Using cached sniffio-1.3.1-py3-none-any.whl.metadata (3.9 kB)\n",
      "Using cached fastapi-0.115.12-py3-none-any.whl (95 kB)\n",
      "Using cached pydantic-2.11.5-py3-none-any.whl (444 kB)\n",
      "Using cached pydantic_core-2.33.2-cp310-cp310-win_amd64.whl (2.0 MB)\n",
      "Using cached starlette-0.46.2-py3-none-any.whl (72 kB)\n",
      "Using cached anyio-4.9.0-py3-none-any.whl (100 kB)\n",
      "Using cached annotated_types-0.7.0-py3-none-any.whl (13 kB)\n",
      "Using cached idna-3.10-py3-none-any.whl (70 kB)\n",
      "Using cached sniffio-1.3.1-py3-none-any.whl (10 kB)\n",
      "Using cached typing_inspection-0.4.1-py3-none-any.whl (14 kB)\n",
      "Installing collected packages: typing-inspection, sniffio, pydantic-core, idna, annotated-types, pydantic, anyio, starlette, fastapi\n",
      "\n",
      "   -------- ------------------------------- 2/9 [pydantic-core]\n",
      "   ------------- -------------------------- 3/9 [idna]\n",
      "   ----------------- ---------------------- 4/9 [annotated-types]\n",
      "   ---------------------- ----------------- 5/9 [pydantic]\n",
      "   ---------------------- ----------------- 5/9 [pydantic]\n",
      "   ---------------------- ----------------- 5/9 [pydantic]\n",
      "   ---------------------- ----------------- 5/9 [pydantic]\n",
      "   ---------------------- ----------------- 5/9 [pydantic]\n",
      "   ---------------------- ----------------- 5/9 [pydantic]\n",
      "   ---------------------- ----------------- 5/9 [pydantic]\n",
      "   ---------------------- ----------------- 5/9 [pydantic]\n",
      "   ---------------------- ----------------- 5/9 [pydantic]\n",
      "   ---------------------- ----------------- 5/9 [pydantic]\n",
      "   ---------------------- ----------------- 5/9 [pydantic]\n",
      "   ---------------------- ----------------- 5/9 [pydantic]\n",
      "   ---------------------- ----------------- 5/9 [pydantic]\n",
      "   ---------------------- ----------------- 5/9 [pydantic]\n",
      "   ---------------------- ----------------- 5/9 [pydantic]\n",
      "   ---------------------- ----------------- 5/9 [pydantic]\n",
      "   -------------------------- ------------- 6/9 [anyio]\n",
      "   -------------------------- ------------- 6/9 [anyio]\n",
      "   -------------------------- ------------- 6/9 [anyio]\n",
      "   -------------------------- ------------- 6/9 [anyio]\n",
      "   -------------------------- ------------- 6/9 [anyio]\n",
      "   ------------------------------- -------- 7/9 [starlette]\n",
      "   ------------------------------- -------- 7/9 [starlette]\n",
      "   ------------------------------- -------- 7/9 [starlette]\n",
      "   ------------------------------- -------- 7/9 [starlette]\n",
      "   ------------------------------- -------- 7/9 [starlette]\n",
      "   ------------------------------- -------- 7/9 [starlette]\n",
      "   ------------------------------- -------- 7/9 [starlette]\n",
      "   ----------------------------------- ---- 8/9 [fastapi]\n",
      "   ----------------------------------- ---- 8/9 [fastapi]\n",
      "   ----------------------------------- ---- 8/9 [fastapi]\n",
      "   ----------------------------------- ---- 8/9 [fastapi]\n",
      "   ----------------------------------- ---- 8/9 [fastapi]\n",
      "   ----------------------------------- ---- 8/9 [fastapi]\n",
      "   ----------------------------------- ---- 8/9 [fastapi]\n",
      "   ----------------------------------- ---- 8/9 [fastapi]\n",
      "   ---------------------------------------- 9/9 [fastapi]\n",
      "\n",
      "Successfully installed annotated-types-0.7.0 anyio-4.9.0 fastapi-0.115.12 idna-3.10 pydantic-2.11.5 pydantic-core-2.33.2 sniffio-1.3.1 starlette-0.46.2 typing-inspection-0.4.1\n"
     ]
    }
   ],
   "source": [
    "!pip install fastapi"
   ]
  },
  {
   "cell_type": "code",
   "execution_count": 3,
   "id": "45f175b0",
   "metadata": {},
   "outputs": [
    {
     "name": "stdout",
     "output_type": "stream",
     "text": [
      "Collecting uvicorn\n",
      "  Using cached uvicorn-0.34.2-py3-none-any.whl.metadata (6.5 kB)\n",
      "Collecting click>=7.0 (from uvicorn)\n",
      "  Downloading click-8.2.1-py3-none-any.whl.metadata (2.5 kB)\n",
      "Collecting h11>=0.8 (from uvicorn)\n",
      "  Using cached h11-0.16.0-py3-none-any.whl.metadata (8.3 kB)\n",
      "Requirement already satisfied: typing-extensions>=4.0 in d:\\00program\\miniconda3\\envs\\py3105\\lib\\site-packages (from uvicorn) (4.13.2)\n",
      "Requirement already satisfied: colorama in d:\\00program\\miniconda3\\envs\\py3105\\lib\\site-packages (from click>=7.0->uvicorn) (0.4.6)\n",
      "Using cached uvicorn-0.34.2-py3-none-any.whl (62 kB)\n",
      "Downloading click-8.2.1-py3-none-any.whl (102 kB)\n",
      "Using cached h11-0.16.0-py3-none-any.whl (37 kB)\n",
      "Installing collected packages: h11, click, uvicorn\n",
      "\n",
      "   ---------------------------------------- 0/3 [h11]\n",
      "   ---------------------------------------- 0/3 [h11]\n",
      "   ------------- -------------------------- 1/3 [click]\n",
      "   ------------- -------------------------- 1/3 [click]\n",
      "   ------------- -------------------------- 1/3 [click]\n",
      "   -------------------------- ------------- 2/3 [uvicorn]\n",
      "   -------------------------- ------------- 2/3 [uvicorn]\n",
      "   -------------------------- ------------- 2/3 [uvicorn]\n",
      "   -------------------------- ------------- 2/3 [uvicorn]\n",
      "   -------------------------- ------------- 2/3 [uvicorn]\n",
      "   ---------------------------------------- 3/3 [uvicorn]\n",
      "\n",
      "Successfully installed click-8.2.1 h11-0.16.0 uvicorn-0.34.2\n"
     ]
    }
   ],
   "source": [
    "!pip install uvicorn"
   ]
  },
  {
   "cell_type": "code",
   "execution_count": 7,
   "id": "64f22d40",
   "metadata": {},
   "outputs": [
    {
     "name": "stderr",
     "output_type": "stream",
     "text": [
      "INFO:     Started server process [37368]\n",
      "INFO:     Waiting for application startup.\n",
      "INFO:     Application startup complete.\n",
      "INFO:     Uvicorn running on http://0.0.0.0:8000 (Press CTRL+C to quit)\n",
      "INFO:     Shutting down\n",
      "INFO:     Waiting for application shutdown.\n",
      "INFO:     Application shutdown complete.\n",
      "INFO:     Finished server process [37368]\n"
     ]
    }
   ],
   "source": [
    "import uvicorn\n",
    "from fastapi import FastAPI\n",
    "app = FastAPI()\n",
    "\n",
    "@app.get(\"/\")\n",
    "async def root():\n",
    "    return {\"message\": \"Hello World\"}\n",
    "\n",
    "if __name__ == '__main__':\n",
    "    config = uvicorn.Config(app, host=\"0.0.0.0\", port=8000, reload=True)\n",
    "    server = uvicorn.Server(config)\n",
    "    await server.serve()\n",
    "    # Note: The above line is for running the server in a script."
   ]
  }
 ],
 "metadata": {
  "kernelspec": {
   "display_name": "py3105",
   "language": "python",
   "name": "python3"
  },
  "language_info": {
   "codemirror_mode": {
    "name": "ipython",
    "version": 3
   },
   "file_extension": ".py",
   "mimetype": "text/x-python",
   "name": "python",
   "nbconvert_exporter": "python",
   "pygments_lexer": "ipython3",
   "version": "3.10.16"
  }
 },
 "nbformat": 4,
 "nbformat_minor": 5
}
